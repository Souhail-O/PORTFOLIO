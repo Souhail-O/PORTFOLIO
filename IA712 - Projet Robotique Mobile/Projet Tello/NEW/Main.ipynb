{
 "cells": [
  {
   "cell_type": "code",
   "execution_count": 6,
   "metadata": {},
   "outputs": [],
   "source": [
    "from djitellopy import Tello\n",
    "from time import sleep\n",
    "import cv2"
   ]
  },
  {
   "cell_type": "code",
   "execution_count": 7,
   "metadata": {},
   "outputs": [
    {
     "ename": "OSError",
     "evalue": "[Errno 48] Address already in use",
     "output_type": "error",
     "traceback": [
      "\u001b[0;31m---------------------------------------------------------------------------\u001b[0m",
      "\u001b[0;31mOSError\u001b[0m                                   Traceback (most recent call last)",
      "\u001b[0;32m<ipython-input-7-baeeffaf1739>\u001b[0m in \u001b[0;36m<module>\u001b[0;34m\u001b[0m\n\u001b[0;32m----> 1\u001b[0;31m \u001b[0mdrone\u001b[0m \u001b[0;34m=\u001b[0m \u001b[0mTello\u001b[0m\u001b[0;34m(\u001b[0m\u001b[0;34m)\u001b[0m\u001b[0;34m\u001b[0m\u001b[0;34m\u001b[0m\u001b[0m\n\u001b[0m\u001b[1;32m      2\u001b[0m \u001b[0mdrone\u001b[0m\u001b[0;34m.\u001b[0m\u001b[0mconnect\u001b[0m\u001b[0;34m(\u001b[0m\u001b[0;34m)\u001b[0m\u001b[0;34m\u001b[0m\u001b[0;34m\u001b[0m\u001b[0m\n",
      "\u001b[0;32m/opt/anaconda3/lib/python3.8/site-packages/djitellopy/tello.py\u001b[0m in \u001b[0;36m__init__\u001b[0;34m(self)\u001b[0m\n\u001b[1;32m     36\u001b[0m         self.clientSocket = socket.socket(socket.AF_INET,  # Internet\n\u001b[1;32m     37\u001b[0m                                           socket.SOCK_DGRAM)  # UDP\n\u001b[0;32m---> 38\u001b[0;31m         \u001b[0mself\u001b[0m\u001b[0;34m.\u001b[0m\u001b[0mclientSocket\u001b[0m\u001b[0;34m.\u001b[0m\u001b[0mbind\u001b[0m\u001b[0;34m(\u001b[0m\u001b[0;34m(\u001b[0m\u001b[0;34m''\u001b[0m\u001b[0;34m,\u001b[0m \u001b[0mself\u001b[0m\u001b[0;34m.\u001b[0m\u001b[0mUDP_PORT\u001b[0m\u001b[0;34m)\u001b[0m\u001b[0;34m)\u001b[0m  \u001b[0;31m# For UDP response (receiving data)\u001b[0m\u001b[0;34m\u001b[0m\u001b[0;34m\u001b[0m\u001b[0m\n\u001b[0m\u001b[1;32m     39\u001b[0m         \u001b[0mself\u001b[0m\u001b[0;34m.\u001b[0m\u001b[0mresponse\u001b[0m \u001b[0;34m=\u001b[0m \u001b[0;32mNone\u001b[0m\u001b[0;34m\u001b[0m\u001b[0;34m\u001b[0m\u001b[0m\n\u001b[1;32m     40\u001b[0m         \u001b[0mself\u001b[0m\u001b[0;34m.\u001b[0m\u001b[0mstream_on\u001b[0m \u001b[0;34m=\u001b[0m \u001b[0;32mFalse\u001b[0m\u001b[0;34m\u001b[0m\u001b[0;34m\u001b[0m\u001b[0m\n",
      "\u001b[0;31mOSError\u001b[0m: [Errno 48] Address already in use"
     ]
    }
   ],
   "source": [
    "drone = Tello()\n",
    "drone.connect()"
   ]
  },
  {
   "cell_type": "code",
   "execution_count": 3,
   "metadata": {},
   "outputs": [
    {
     "name": "stdout",
     "output_type": "stream",
     "text": [
      "Send command: battery?\n",
      "Timeout exceed on command battery?\n",
      "Command battery? was unsuccessful. Message: False\n",
      "---- Battery : False% ----\n"
     ]
    }
   ],
   "source": [
    "print(\"---- Battery : {}% ----\".format(drone.get_battery()))"
   ]
  },
  {
   "cell_type": "code",
   "execution_count": null,
   "metadata": {},
   "outputs": [],
   "source": [
    "# Video Stream\n",
    "drone.streamon()\n",
    "while True:\n",
    "    cv2.waitKey(1000//30)\n",
    "    img = drone.get_frame_read().frame\n",
    "    img = cv2.resize(img, (360,240))\n",
    "    cv2.imshow(\"Output\", img)\n",
    "    break\"\"\n",
    "\n"
   ]
  },
  {
   "cell_type": "code",
   "execution_count": null,
   "metadata": {},
   "outputs": [],
   "source": [
    "sleep(5)\n",
    "\n",
    "# Basic commands\n",
    "\n",
    "drone.takeoff()\n",
    "sleep(2)\n",
    "\n",
    "drone.send_rc_control(0,20,0,0)    # LeftRight - ForwardBackward - UpDown - Yaw\n",
    "sleep(2)\n",
    "\n",
    "\"\"\"drone.flip_forward()\n",
    "sleep(2)\n",
    "\n",
    "drone.send_rc_control(0,0,0,100)    # LeftRight - ForwardBackward - UpDown - Yaw\n",
    "sleep(2)\n",
    "\n",
    "drone.send_rc_control(0,20,0,0)    # LeftRight - ForwardBackward - UpDown - Yaw\n",
    "sleep(2)\"\"\"\n",
    "\n",
    "\n",
    "drone.land()"
   ]
  }
 ],
 "metadata": {
  "interpreter": {
   "hash": "dc75fc85197f52bcbcc2c6798999d2fd4cc48a23c0e70092489a928adf8a606c"
  },
  "kernelspec": {
   "display_name": "Python 3",
   "language": "python",
   "name": "python3"
  },
  "language_info": {
   "codemirror_mode": {
    "name": "ipython",
    "version": 3
   },
   "file_extension": ".py",
   "mimetype": "text/x-python",
   "name": "python",
   "nbconvert_exporter": "python",
   "pygments_lexer": "ipython3",
   "version": "3.8.8"
  }
 },
 "nbformat": 4,
 "nbformat_minor": 4
}
