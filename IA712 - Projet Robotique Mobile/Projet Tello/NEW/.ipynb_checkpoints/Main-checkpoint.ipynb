{
 "cells": [
  {
   "cell_type": "code",
   "execution_count": null,
   "metadata": {},
   "outputs": [
    {
     "ename": "",
     "evalue": "",
     "output_type": "error",
     "traceback": [
      "\u001b[1;31mFailed to start the Kernel. \n",
      "Kernel Drone (Python 3.7.10) is not usable. Check the Jupyter output tab for more information. \n",
      "View Jupyter <a href='command:jupyter.viewOutput'>log</a> for further details."
     ]
    }
   ],
   "source": [
    "from djitellopy import Tello\n",
    "from time import sleep\n",
    "import cv2"
   ]
  },
  {
   "cell_type": "code",
   "execution_count": null,
   "metadata": {},
   "outputs": [],
   "source": [
    "drone = Tello()\n",
    "drone.connect()"
   ]
  },
  {
   "cell_type": "code",
   "execution_count": null,
   "metadata": {},
   "outputs": [],
   "source": [
    "print(\"---- Battery : {}% ----\".format(drone.get_battery()))"
   ]
  },
  {
   "cell_type": "code",
   "execution_count": null,
   "metadata": {},
   "outputs": [],
   "source": [
    "# Video Stream\n",
    "drone.streamon()\n",
    "while True:\n",
    "    cv2.waitKey(1000//30)\n",
    "    img = drone.get_frame_read().frame\n",
    "    img = cv2.resize(img, (360,240))\n",
    "    cv2.imshow(\"Output\", img)\n",
    "    break\"\"\n",
    "\n"
   ]
  },
  {
   "cell_type": "code",
   "execution_count": null,
   "metadata": {},
   "outputs": [],
   "source": [
    "sleep(5)\n",
    "\n",
    "# Basic commands\n",
    "\n",
    "drone.takeoff()\n",
    "sleep(2)\n",
    "\n",
    "drone.send_rc_control(0,20,0,0)    # LeftRight - ForwardBackward - UpDown - Yaw\n",
    "sleep(2)\n",
    "\n",
    "\"\"\"drone.flip_forward()\n",
    "sleep(2)\n",
    "\n",
    "drone.send_rc_control(0,0,0,100)    # LeftRight - ForwardBackward - UpDown - Yaw\n",
    "sleep(2)\n",
    "\n",
    "drone.send_rc_control(0,20,0,0)    # LeftRight - ForwardBackward - UpDown - Yaw\n",
    "sleep(2)\"\"\"\n",
    "\n",
    "\n",
    "drone.land()"
   ]
  }
 ],
 "metadata": {
  "interpreter": {
   "hash": "dc75fc85197f52bcbcc2c6798999d2fd4cc48a23c0e70092489a928adf8a606c"
  },
  "kernelspec": {
   "display_name": "Python 3.7.10 64-bit ('Drone': conda)",
   "language": "python",
   "name": "python3"
  },
  "language_info": {
   "name": "python",
   "version": "3.7.10"
  },
  "orig_nbformat": 4
 },
 "nbformat": 4,
 "nbformat_minor": 2
}
