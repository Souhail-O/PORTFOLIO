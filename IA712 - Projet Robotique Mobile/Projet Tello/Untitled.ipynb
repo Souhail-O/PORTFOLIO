{
 "cells": [
  {
   "cell_type": "code",
   "execution_count": 1,
   "id": "780fcf39-ebc4-4d69-8a35-a44d454c09ad",
   "metadata": {},
   "outputs": [],
   "source": [
    "from djitellopy import Tello\n",
    "import cv2"
   ]
  },
  {
   "cell_type": "code",
   "execution_count": 2,
   "id": "c893ef42-8a6a-46a0-80c8-126b33b02a02",
   "metadata": {},
   "outputs": [],
   "source": [
    "me = Tello()\n"
   ]
  },
  {
   "cell_type": "code",
   "execution_count": 3,
   "id": "f696cf0b-b505-479d-ac45-a14c1b805580",
   "metadata": {},
   "outputs": [
    {
     "name": "stdout",
     "output_type": "stream",
     "text": [
      "Send command: command\n",
      "Response: b'ok'\n"
     ]
    },
    {
     "data": {
      "text/plain": [
       "True"
      ]
     },
     "execution_count": 3,
     "metadata": {},
     "output_type": "execute_result"
    }
   ],
   "source": [
    "me.connect()"
   ]
  },
  {
   "cell_type": "code",
   "execution_count": 4,
   "id": "d430165d-aa98-4082-8d13-f8a14b7beecf",
   "metadata": {},
   "outputs": [],
   "source": [
    "me.for_back_velocity = 0\n",
    "me.left_right_velocity = 0\n",
    "me.up_down_velocity = 0\n",
    "me.speed = 0"
   ]
  },
  {
   "cell_type": "code",
   "execution_count": null,
   "id": "fc9fbe83-3f00-4772-a8be-0aed01cd31ab",
   "metadata": {},
   "outputs": [],
   "source": [
    "frameread = me.get_frame_read()"
   ]
  },
  {
   "cell_type": "code",
   "execution_count": 9,
   "id": "122c612a-c92e-4388-be23-7df6a40eca14",
   "metadata": {},
   "outputs": [],
   "source": [
    "myframe = frameread.frame"
   ]
  },
  {
   "cell_type": "code",
   "execution_count": 11,
   "id": "74a10cb1-0022-484e-ba94-7d069193ae6a",
   "metadata": {},
   "outputs": [],
   "source": [
    "img = cv2.resize(myframe, (320,240))"
   ]
  },
  {
   "cell_type": "code",
   "execution_count": 12,
   "id": "f77842d8-5ac2-4e2c-8448-6c1a83fcce64",
   "metadata": {},
   "outputs": [
    {
     "name": "stdout",
     "output_type": "stream",
     "text": [
      "Send command: takeoff\n",
      "Response: b'ok'\n"
     ]
    },
    {
     "data": {
      "text/plain": [
       "True"
      ]
     },
     "execution_count": 12,
     "metadata": {},
     "output_type": "execute_result"
    }
   ],
   "source": [
    "me.takeoff()"
   ]
  },
  {
   "cell_type": "code",
   "execution_count": null,
   "id": "da0e19c0-dfa6-470a-8bb4-06af937bb37d",
   "metadata": {},
   "outputs": [],
   "source": []
  }
 ],
 "metadata": {
  "kernelspec": {
   "display_name": "Python 3",
   "language": "python",
   "name": "python3"
  },
  "language_info": {
   "codemirror_mode": {
    "name": "ipython",
    "version": 3
   },
   "file_extension": ".py",
   "mimetype": "text/x-python",
   "name": "python",
   "nbconvert_exporter": "python",
   "pygments_lexer": "ipython3",
   "version": "3.8.8"
  }
 },
 "nbformat": 4,
 "nbformat_minor": 5
}
