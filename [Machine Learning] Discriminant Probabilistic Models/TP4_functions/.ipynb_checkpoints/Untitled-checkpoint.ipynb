{
 "cells": [
  {
   "cell_type": "code",
   "execution_count": 38,
   "id": "corresponding-ozone",
   "metadata": {},
   "outputs": [],
   "source": [
    "from load_ag_news import load_ag_news\n",
    "import numpy as np\n",
    "from gensim.models.doc2vec import Doc2Vec, TaggedDocument\n",
    "import torch"
   ]
  },
  {
   "cell_type": "code",
   "execution_count": 49,
   "id": "engaging-pension",
   "metadata": {},
   "outputs": [],
   "source": [
    "train_set, test_set = load_ag_news()\n",
    "train_texts = [y for x, y in train_set]\n",
    "test_texts = [y for x, y in test_set]"
   ]
  },
  {
   "cell_type": "code",
   "execution_count": 32,
   "id": "threaded-large",
   "metadata": {},
   "outputs": [],
   "source": [
    "documents = [TaggedDocument(doc, [i]) for i, doc in enumerate(train_texts)]\n",
    "model = Doc2Vec(documents, vector_size = 300, window = 10, min_count = 1, workers = 4)"
   ]
  },
  {
   "cell_type": "code",
   "execution_count": 40,
   "id": "qualified-comfort",
   "metadata": {},
   "outputs": [],
   "source": [
    "torch_train_text = torch.zeros(len(train_set), 300)"
   ]
  },
  {
   "cell_type": "code",
   "execution_count": 43,
   "id": "physical-tonight",
   "metadata": {},
   "outputs": [],
   "source": [
    "for idt, text in enumerate(train_texts):\n",
    "    torch_train_text[idt] = torch.tensor(model.infer_vector(text))"
   ]
  },
  {
   "cell_type": "code",
   "execution_count": 48,
   "id": "australian-guest",
   "metadata": {},
   "outputs": [],
   "source": [
    "#torch.save(torch_train_text, 'tensor_train_ag_news.pt')"
   ]
  },
  {
   "cell_type": "code",
   "execution_count": 50,
   "id": "linear-gregory",
   "metadata": {},
   "outputs": [
    {
     "name": "stdout",
     "output_type": "stream",
     "text": [
      "0\n",
      "1000\n",
      "2000\n",
      "3000\n",
      "4000\n",
      "5000\n",
      "6000\n",
      "7000\n"
     ]
    }
   ],
   "source": [
    "torch_test_text = torch.zeros(len(test_set), 300)\n",
    "\n",
    "for idt, text in enumerate(test_texts):\n",
    "    if idt % 1000 == 0:\n",
    "        print(idt)\n",
    "        \n",
    "    torch_test_text[idt] = torch.tensor(model.infer_vector(text))\n",
    "    \n",
    "#torch.save(torch_test_text, 'tensor_test_ag_news.pt')"
   ]
  },
  {
   "cell_type": "code",
   "execution_count": 51,
   "id": "efficient-announcement",
   "metadata": {},
   "outputs": [],
   "source": []
  },
  {
   "cell_type": "code",
   "execution_count": 52,
   "id": "italic-relief",
   "metadata": {},
   "outputs": [
    {
     "data": {
      "text/plain": [
       "tensor([[True, True, True,  ..., True, True, True],\n",
       "        [True, True, True,  ..., True, True, True],\n",
       "        [True, True, True,  ..., True, True, True],\n",
       "        ...,\n",
       "        [True, True, True,  ..., True, True, True],\n",
       "        [True, True, True,  ..., True, True, True],\n",
       "        [True, True, True,  ..., True, True, True]])"
      ]
     },
     "execution_count": 52,
     "metadata": {},
     "output_type": "execute_result"
    }
   ],
   "source": []
  },
  {
   "cell_type": "code",
   "execution_count": null,
   "id": "understood-mason",
   "metadata": {},
   "outputs": [],
   "source": []
  }
 ],
 "metadata": {
  "kernelspec": {
   "display_name": "env_MSIA",
   "language": "python",
   "name": "env_msia"
  },
  "language_info": {
   "codemirror_mode": {
    "name": "ipython",
    "version": 3
   },
   "file_extension": ".py",
   "mimetype": "text/x-python",
   "name": "python",
   "nbconvert_exporter": "python",
   "pygments_lexer": "ipython3",
   "version": "3.6.12"
  }
 },
 "nbformat": 4,
 "nbformat_minor": 5
}
